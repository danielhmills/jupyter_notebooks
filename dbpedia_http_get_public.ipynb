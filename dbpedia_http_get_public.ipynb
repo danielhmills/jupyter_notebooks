{
 "cells": [
  {
   "cell_type": "code",
   "execution_count": null,
   "metadata": {},
   "outputs": [],
   "source": [
    "import requests\n",
    "import plotly.graph_objects as go\n",
    "\n",
    "\n",
    "url = \"\"\"http://dbpedia.org/sparql?default-graph-uri=http%3A%2F%2Fdbpedia.org&query=PREFIX+dbo%3A+%3Chttp%3A%2F%2Fdbpedia.org%2Fontology%2F%3E+%0D%0A++++++++++++++++SELECT+%0D%0A++++++++++++++++++++++++%3Fs+as+%3Fteam%0D%0A++++++++++++++++++++++++%3Fname%0D%0A++++++++++++++++++++++++%3Fleague%0D%0A++++++++++++++++++++++++%3Flname%0D%0A++++++++++++++++WHERE+%7B%0D%0A++++++++++++++++%3Fs+a+dbo%3ASportsTeam%3B%0D%0A++++++++++++++++++++rdfs%3Alabel+%3Fname%3B%0D%0A++++++++++++++++++++dbo%3Aleague+%3Fleague.%0D%0A++++++++++++++++++++%0D%0A++++++++++++++++++++%3Fleague+rdfs%3Alabel+%3Flname%0D%0A%0D%0A++++++++++++++++++++FILTER%28lang%28%3Fname%29+%3D+%27en%27+%26%26+lang%28%3Flname%29+%3D+%27en%27%29.+%0D%0A++++++++++++++++++++%0D%0A++++++++++++++++++++%0D%0A++++++++++++++++++++++%7D+%0D%0A++++++++++++++++LIMIT+5&format=application%2Fsparql-results%2Bjson&CXML_redir_for_subjs=121&CXML_redir_for_hrefs=&timeout=30000&debug=on&run=+Run+Query+\"\"\"\n",
    "\n",
    "r = requests.get(url)\n",
    "\n",
    "data = r.json()\n",
    "\n",
    "res = data['results']['bindings']\n",
    "\n",
    "uri = []\n",
    "name = []\n",
    "league = []\n",
    "\n",
    "for i in range (0,len(res)):\n",
    "    uri.append(res[i]['team']['value'])\n",
    "    name.append(res[i]['name']['value'])\n",
    "    league.append(res[i]['lname']['value'])\n",
    "\n",
    "fig = go.Figure(data=[go.Table(header=dict(values=['Team URI', 'Team Name','League Name']),\n",
    "                 cells=dict(values=[uri,name,league]))\n",
    "                     ])\n",
    "fig.show() "
   ]
  }
 ],
 "metadata": {
  "kernelspec": {
   "display_name": "Python 3",
   "language": "python",
   "name": "python3"
  },
  "language_info": {
   "codemirror_mode": {
    "name": "ipython",
    "version": 3
   },
   "file_extension": ".py",
   "mimetype": "text/x-python",
   "name": "python",
   "nbconvert_exporter": "python",
   "pygments_lexer": "ipython3",
   "version": "3.7.4"
  }
 },
 "nbformat": 4,
 "nbformat_minor": 4
}
